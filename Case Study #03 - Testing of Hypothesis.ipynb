{
 "cells": [
  {
   "cell_type": "markdown",
   "id": "ef89c527",
   "metadata": {},
   "source": [
    "#Importing libraries"
   ]
  },
  {
   "cell_type": "code",
   "execution_count": 43,
   "id": "d3ee7ba0",
   "metadata": {},
   "outputs": [],
   "source": [
    "import numpy as np\n",
    "import pandas as pd\n",
    "import scipy.stats as stats\n",
    "import matplotlib.pyplot as plt\n",
    "import seaborn as sns"
   ]
  },
  {
   "cell_type": "markdown",
   "id": "e32ee499",
   "metadata": {},
   "source": [
    "#Importing csv file to python"
   ]
  },
  {
   "cell_type": "code",
   "execution_count": 8,
   "id": "5ca9f079",
   "metadata": {},
   "outputs": [],
   "source": [
    "data = pd.read_csv(r'C:\\Users\\Sanza Vijin\\Downloads\\Sales_add.csv')"
   ]
  },
  {
   "cell_type": "code",
   "execution_count": 9,
   "id": "a905cf9e",
   "metadata": {},
   "outputs": [
    {
     "data": {
      "text/html": [
       "<div>\n",
       "<style scoped>\n",
       "    .dataframe tbody tr th:only-of-type {\n",
       "        vertical-align: middle;\n",
       "    }\n",
       "\n",
       "    .dataframe tbody tr th {\n",
       "        vertical-align: top;\n",
       "    }\n",
       "\n",
       "    .dataframe thead th {\n",
       "        text-align: right;\n",
       "    }\n",
       "</style>\n",
       "<table border=\"1\" class=\"dataframe\">\n",
       "  <thead>\n",
       "    <tr style=\"text-align: right;\">\n",
       "      <th></th>\n",
       "      <th>Month</th>\n",
       "      <th>Region</th>\n",
       "      <th>Manager</th>\n",
       "      <th>Sales_before_digital_add(in $)</th>\n",
       "      <th>Sales_After_digital_add(in $)</th>\n",
       "    </tr>\n",
       "  </thead>\n",
       "  <tbody>\n",
       "    <tr>\n",
       "      <th>0</th>\n",
       "      <td>Month-1</td>\n",
       "      <td>Region - A</td>\n",
       "      <td>Manager - A</td>\n",
       "      <td>132921</td>\n",
       "      <td>270390</td>\n",
       "    </tr>\n",
       "    <tr>\n",
       "      <th>1</th>\n",
       "      <td>Month-2</td>\n",
       "      <td>Region - A</td>\n",
       "      <td>Manager - C</td>\n",
       "      <td>149559</td>\n",
       "      <td>223334</td>\n",
       "    </tr>\n",
       "    <tr>\n",
       "      <th>2</th>\n",
       "      <td>Month-3</td>\n",
       "      <td>Region - B</td>\n",
       "      <td>Manager - A</td>\n",
       "      <td>146278</td>\n",
       "      <td>244243</td>\n",
       "    </tr>\n",
       "    <tr>\n",
       "      <th>3</th>\n",
       "      <td>Month-4</td>\n",
       "      <td>Region - B</td>\n",
       "      <td>Manager - B</td>\n",
       "      <td>152167</td>\n",
       "      <td>231808</td>\n",
       "    </tr>\n",
       "    <tr>\n",
       "      <th>4</th>\n",
       "      <td>Month-5</td>\n",
       "      <td>Region - C</td>\n",
       "      <td>Manager - B</td>\n",
       "      <td>159525</td>\n",
       "      <td>258402</td>\n",
       "    </tr>\n",
       "  </tbody>\n",
       "</table>\n",
       "</div>"
      ],
      "text/plain": [
       "     Month      Region      Manager  Sales_before_digital_add(in $)  \\\n",
       "0  Month-1  Region - A  Manager - A                          132921   \n",
       "1  Month-2  Region - A  Manager - C                          149559   \n",
       "2  Month-3  Region - B  Manager - A                          146278   \n",
       "3  Month-4  Region - B  Manager - B                          152167   \n",
       "4  Month-5  Region - C  Manager - B                          159525   \n",
       "\n",
       "   Sales_After_digital_add(in $)  \n",
       "0                         270390  \n",
       "1                         223334  \n",
       "2                         244243  \n",
       "3                         231808  \n",
       "4                         258402  "
      ]
     },
     "execution_count": 9,
     "metadata": {},
     "output_type": "execute_result"
    }
   ],
   "source": [
    "data.head()"
   ]
  },
  {
   "cell_type": "markdown",
   "id": "90875961",
   "metadata": {},
   "source": [
    "### The company wishes to clarify whether there is any increase in sales after stepping into digital marketing."
   ]
  },
  {
   "cell_type": "code",
   "execution_count": 14,
   "id": "93955c20",
   "metadata": {},
   "outputs": [],
   "source": [
    "#Null and Alternative Hypothesis\n",
    "#H0: There is increase in sales after stepping to digital marketing\n",
    "#H1: There is no increase in sales after stepping to digital marketing"
   ]
  },
  {
   "cell_type": "code",
   "execution_count": 15,
   "id": "91fd5728",
   "metadata": {},
   "outputs": [],
   "source": [
    "before_DM = data['Sales_before_digital_add(in $)']\n",
    "after_DM = data['Sales_After_digital_add(in $)']"
   ]
  },
  {
   "cell_type": "code",
   "execution_count": 18,
   "id": "8a912441",
   "metadata": {},
   "outputs": [],
   "source": [
    "tvalue,pvalue = stats.ttest_ind(before_DM,after_DM)"
   ]
  },
  {
   "cell_type": "code",
   "execution_count": 19,
   "id": "5fbbd16a",
   "metadata": {},
   "outputs": [],
   "source": [
    "alpha = 0.05"
   ]
  },
  {
   "cell_type": "code",
   "execution_count": 32,
   "id": "94271c85",
   "metadata": {},
   "outputs": [
    {
     "data": {
      "text/plain": [
       "Ttest_indResult(statistic=-12.995084451110877, pvalue=2.614368006904645e-16)"
      ]
     },
     "execution_count": 32,
     "metadata": {},
     "output_type": "execute_result"
    }
   ],
   "source": [
    "stats.ttest_ind(before_DM,after_DM)"
   ]
  },
  {
   "cell_type": "code",
   "execution_count": 31,
   "id": "6878e06a",
   "metadata": {},
   "outputs": [
    {
     "name": "stdout",
     "output_type": "stream",
     "text": [
      "Reject H1:There is no increase in sales after stepping to digital marketing\n"
     ]
    }
   ],
   "source": [
    "if pvalue >alpha:\n",
    "    print('Reject H0:There is increase in sales after stepping to digital marketing')\n",
    "else:\n",
    "    print('Reject H1:There is no increase in sales after stepping to digital marketing')"
   ]
  },
  {
   "cell_type": "markdown",
   "id": "c82d1500",
   "metadata": {},
   "source": [
    "#### Inference :  There is increase in sales after stepping into digital marketing"
   ]
  },
  {
   "cell_type": "markdown",
   "id": "2ad7c077",
   "metadata": {},
   "source": [
    "### The company needs to check whether there is any dependency between the features “Region” and “Manager”."
   ]
  },
  {
   "cell_type": "code",
   "execution_count": 35,
   "id": "57c5525e",
   "metadata": {},
   "outputs": [
    {
     "name": "stdout",
     "output_type": "stream",
     "text": [
      "Region      Manager    \n",
      "Region - A  Manager - A    148628.500000\n",
      "            Manager - B    155617.000000\n",
      "            Manager - C    140228.000000\n",
      "Region - B  Manager - A    142725.000000\n",
      "            Manager - B    152167.000000\n",
      "            Manager - C    165299.000000\n",
      "Region - C  Manager - A    147463.000000\n",
      "            Manager - B    156492.333333\n",
      "            Manager - C    130625.000000\n",
      "Name: Sales_before_digital_add(in $), dtype: float64\n"
     ]
    }
   ],
   "source": [
    "data1=data.groupby(['Region','Manager'])['Sales_before_digital_add(in $)'].mean()\n",
    "print(data1)"
   ]
  },
  {
   "cell_type": "code",
   "execution_count": 37,
   "id": "68bf82cf",
   "metadata": {},
   "outputs": [
    {
     "name": "stdout",
     "output_type": "stream",
     "text": [
      "Region      Manager    \n",
      "Region - A  Manager - A    257609.250000\n",
      "            Manager - B    218944.000000\n",
      "            Manager - C    233754.000000\n",
      "Region - B  Manager - A    234962.750000\n",
      "            Manager - B    231808.000000\n",
      "            Manager - C    214718.000000\n",
      "Region - C  Manager - A    229336.000000\n",
      "            Manager - B    214551.333333\n",
      "            Manager - C    222106.000000\n",
      "Name: Sales_After_digital_add(in $), dtype: float64\n"
     ]
    }
   ],
   "source": [
    "data2=data.groupby(['Region','Manager'])['Sales_After_digital_add(in $)'].mean()\n",
    "print(data2)"
   ]
  },
  {
   "cell_type": "code",
   "execution_count": 53,
   "id": "b1fa57c1",
   "metadata": {},
   "outputs": [],
   "source": [
    "#There is not much dependency between Region and Manager since irrespective of region, managers shows consistent performance ,before and after addition of digital marketing"
   ]
  },
  {
   "cell_type": "code",
   "execution_count": null,
   "id": "b94cdc51",
   "metadata": {},
   "outputs": [],
   "source": []
  },
  {
   "cell_type": "code",
   "execution_count": null,
   "id": "603ae575",
   "metadata": {},
   "outputs": [],
   "source": []
  }
 ],
 "metadata": {
  "kernelspec": {
   "display_name": "Python 3 (ipykernel)",
   "language": "python",
   "name": "python3"
  },
  "language_info": {
   "codemirror_mode": {
    "name": "ipython",
    "version": 3
   },
   "file_extension": ".py",
   "mimetype": "text/x-python",
   "name": "python",
   "nbconvert_exporter": "python",
   "pygments_lexer": "ipython3",
   "version": "3.9.7"
  }
 },
 "nbformat": 4,
 "nbformat_minor": 5
}
